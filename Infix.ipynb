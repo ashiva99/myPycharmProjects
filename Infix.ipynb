{
 "cells": [
  {
   "cell_type": "code",
   "execution_count": 1,
   "metadata": {},
   "outputs": [
    {
     "name": "stdout",
     "output_type": "stream",
     "text": [
      "Hello\n"
     ]
    }
   ],
   "source": [
    "print(\"Hello\")"
   ]
  },
  {
   "cell_type": "code",
   "execution_count": 4,
   "metadata": {},
   "outputs": [
    {
     "name": "stdout",
     "output_type": "stream",
     "text": [
      "8+(7-9)*2\n"
     ]
    },
    {
     "ename": "IndexError",
     "evalue": "list index out of range",
     "output_type": "error",
     "traceback": [
      "\u001b[1;31m---------------------------------------------------------------------------\u001b[0m",
      "\u001b[1;31mIndexError\u001b[0m                                Traceback (most recent call last)",
      "\u001b[1;32m<ipython-input-4-774ba8f41b3c>\u001b[0m in \u001b[0;36m<module>\u001b[1;34m\u001b[0m\n\u001b[0;32m     14\u001b[0m         \u001b[1;32melse\u001b[0m\u001b[1;33m:\u001b[0m\u001b[1;33m\u001b[0m\u001b[1;33m\u001b[0m\u001b[0m\n\u001b[0;32m     15\u001b[0m             \u001b[1;32mfor\u001b[0m \u001b[0mj\u001b[0m \u001b[1;32min\u001b[0m \u001b[0mrange\u001b[0m\u001b[1;33m(\u001b[0m\u001b[0mlen\u001b[0m\u001b[1;33m(\u001b[0m\u001b[0msym\u001b[0m\u001b[1;33m)\u001b[0m\u001b[1;33m-\u001b[0m\u001b[1;36m1\u001b[0m\u001b[1;33m,\u001b[0m\u001b[1;33m-\u001b[0m\u001b[1;36m1\u001b[0m\u001b[1;33m,\u001b[0m\u001b[1;33m-\u001b[0m\u001b[1;36m1\u001b[0m\u001b[1;33m)\u001b[0m\u001b[1;33m:\u001b[0m\u001b[1;33m\u001b[0m\u001b[1;33m\u001b[0m\u001b[0m\n\u001b[1;32m---> 16\u001b[1;33m                 \u001b[1;32mif\u001b[0m \u001b[1;33m(\u001b[0m\u001b[1;33m(\u001b[0m\u001b[0msym\u001b[0m\u001b[1;33m[\u001b[0m\u001b[0mj\u001b[0m\u001b[1;33m]\u001b[0m\u001b[1;33m==\u001b[0m\u001b[1;34m'+'\u001b[0m \u001b[1;32mor\u001b[0m \u001b[0msym\u001b[0m\u001b[1;33m[\u001b[0m\u001b[0mj\u001b[0m\u001b[1;33m]\u001b[0m\u001b[1;33m==\u001b[0m\u001b[1;34m'-'\u001b[0m\u001b[1;33m)\u001b[0m \u001b[1;32mand\u001b[0m \u001b[0m_\u001b[0m\u001b[1;33m==\u001b[0m\u001b[1;34m'*'\u001b[0m\u001b[1;33m)\u001b[0m\u001b[1;33m:\u001b[0m\u001b[1;33m\u001b[0m\u001b[1;33m\u001b[0m\u001b[0m\n\u001b[0m\u001b[0;32m     17\u001b[0m                     \u001b[0msym\u001b[0m\u001b[1;33m.\u001b[0m\u001b[0mappend\u001b[0m\u001b[1;33m(\u001b[0m\u001b[0m_\u001b[0m\u001b[1;33m)\u001b[0m\u001b[1;33m\u001b[0m\u001b[1;33m\u001b[0m\u001b[0m\n\u001b[0;32m     18\u001b[0m                     \u001b[1;32mbreak\u001b[0m\u001b[1;33m\u001b[0m\u001b[1;33m\u001b[0m\u001b[0m\n",
      "\u001b[1;31mIndexError\u001b[0m: list index out of range"
     ]
    }
   ],
   "source": [
    "s=input()\n",
    "n='0123456789'\n",
    "post=[]\n",
    "sym=[]\n",
    "i=0\n",
    "for _ in s:\n",
    "    if _ in n:\n",
    "        post.append(_)\n",
    "    else:\n",
    "        if len(sym)==0:\n",
    "            sym.append(_)\n",
    "        elif sym[-1]=='(':\n",
    "            sym.append(_)\n",
    "        else:\n",
    "            for j in range(len(sym)-1,-1,-1):\n",
    "                if ((sym[j]=='+' or sym[j]=='-') and _=='*'):\n",
    "                    sym.append(_)\n",
    "                    break\n",
    "                elif ((sym[j]=='+' or sym[j]=='-') and _=='/'):\n",
    "                    sym.append(_)\n",
    "                    break\n",
    "                elif ((sym[j]=='+' or sym[j]=='-') and (_=='+' or _=='-')):\n",
    "                    post.append(sym[j])\n",
    "                    sym.pop()\n",
    "                    if len(sym)==0:\n",
    "                        sym.append(_)\n",
    "                elif ((sym[j]=='*' or sym[j]=='/') and (_=='+' or _=='-')):\n",
    "                    post.append(sym[j])\n",
    "                    sym.pop()\n",
    "                    if len(sym)==0:\n",
    "                        sym.append(_)\n",
    "                elif (_=='('):\n",
    "                    sym.append(_)\n",
    "                elif _==')':\n",
    "                    i=-1\n",
    "                    while True:\n",
    "                        post.append(sym[i])\n",
    "                        sym.pop()\n",
    "                        if sym[i]=='(':\n",
    "                            sym.pop()\n",
    "                            j=i\n",
    "                            break\n",
    "                        \n",
    "                    \n",
    "                \n",
    "sym.reverse()\n",
    "for l in sym:\n",
    "    post.append(l)\n",
    "sym.clear()\n",
    "                \n",
    "print(post)\n",
    "print(sym)"
   ]
  },
  {
   "cell_type": "code",
   "execution_count": null,
   "metadata": {},
   "outputs": [],
   "source": []
  },
  {
   "cell_type": "code",
   "execution_count": null,
   "metadata": {},
   "outputs": [],
   "source": []
  },
  {
   "cell_type": "code",
   "execution_count": null,
   "metadata": {},
   "outputs": [],
   "source": []
  },
  {
   "cell_type": "code",
   "execution_count": null,
   "metadata": {},
   "outputs": [],
   "source": []
  }
 ],
 "metadata": {
  "kernelspec": {
   "display_name": "Python 3",
   "language": "python",
   "name": "python3"
  },
  "language_info": {
   "codemirror_mode": {
    "name": "ipython",
    "version": 3
   },
   "file_extension": ".py",
   "mimetype": "text/x-python",
   "name": "python",
   "nbconvert_exporter": "python",
   "pygments_lexer": "ipython3",
   "version": "3.7.3"
  }
 },
 "nbformat": 4,
 "nbformat_minor": 2
}
